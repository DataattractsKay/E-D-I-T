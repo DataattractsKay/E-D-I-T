{
 "cells": [
  {
   "cell_type": "code",
   "execution_count": 15,
   "metadata": {},
   "outputs": [],
   "source": [
    "from PIL import Image, ImageEnhance, ImageFilter\n",
    "import os\n",
    "\n",
    "path = \"/Users/kanikavarandani/Desktop/Pictures\" # folder for unedited images\n",
    "pathOut = \"/Users/kanikavarandani/Desktop/Pictures/Edited_Pictures\" # folder for edited images\n",
    "\n",
    "# Just to be safe (Hehe!) Create output directory if it doesn't exist\n",
    "os.makedirs(pathOut, exist_ok=True)\n",
    "\n",
    "for filename in os.listdir(path):\n",
    "    filepath = os.path.join(path, filename)\n",
    "    if os.path.isfile(filepath):\n",
    "        try:\n",
    "            img = Image.open(filepath)\n",
    "        except (Image.UnidentifiedImageError, IsADirectoryError):\n",
    "            continue\n",
    "\n",
    "        # The Frontend Developer in me is excited!! \n",
    "        # Writing Editing Commands - Sharpen\n",
    "        edit = img.filter(ImageFilter.SHARPEN).convert('L')\n",
    "\n",
    "        # The Shades of life :D\n",
    "        # This command is for applying Contrast\n",
    "        factor = 1.5\n",
    "        enhancer = ImageEnhance.Contrast(edit)\n",
    "        edit = enhancer.enhance(factor)\n",
    "\n",
    "        # If not save it then how will I upload it on Instagram?\n",
    "        clean_name = os.path.splitext(filename)[0]\n",
    "        edited_filename = f\"{clean_name}_edited.jpg\"\n",
    "        edited_filepath = os.path.join(pathOut, edited_filename)\n",
    "        edit.save(edited_filepath)\n",
    "\n",
    "        # Free the SWE jobs from AI \n",
    "        # I mean free the resources - Close it up!\n",
    "        img.close()\n"
   ]
  }
 ],
 "metadata": {
  "kernelspec": {
   "display_name": "Python 3.9.12 ('base')",
   "language": "python",
   "name": "python3"
  },
  "language_info": {
   "codemirror_mode": {
    "name": "ipython",
    "version": 3
   },
   "file_extension": ".py",
   "mimetype": "text/x-python",
   "name": "python",
   "nbconvert_exporter": "python",
   "pygments_lexer": "ipython3",
   "version": "3.9.12"
  },
  "orig_nbformat": 4,
  "vscode": {
   "interpreter": {
    "hash": "a587666670b7ccc50d296457009ae5012e123f1926979462e77b5c941ac969ba"
   }
  }
 },
 "nbformat": 4,
 "nbformat_minor": 2
}
